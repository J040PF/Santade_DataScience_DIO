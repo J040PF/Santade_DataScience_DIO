{
  "nbformat": 4,
  "nbformat_minor": 0,
  "metadata": {
    "colab": {
      "provenance": []
    },
    "kernelspec": {
      "name": "python3",
      "display_name": "Python 3"
    },
    "language_info": {
      "name": "python"
    }
  },
  "cells": [
    {
      "cell_type": "code",
      "execution_count": 1,
      "metadata": {
        "id": "P3umvjW0-E2U"
      },
      "outputs": [],
      "source": [
        "import pandas as pd\n",
        "import requests\n",
        "import json"
      ]
    },
    {
      "cell_type": "markdown",
      "source": [
        "# **Extract**"
      ],
      "metadata": {
        "id": "DZA7uQ7ZGr9u"
      }
    },
    {
      "cell_type": "code",
      "source": [
        "link_api = 'https://sdw-2023-prd.up.railway.app'\n",
        "df = pd.read_csv(\"/content/User_id.csv\")\n",
        "df2=pd.read_csv('/content/Frases.csv')\n",
        "data = df['User_id'].tolist()\n",
        "frases = df2['Frases'].tolist()\n"
      ],
      "metadata": {
        "id": "4Dayxcl1GvEb"
      },
      "execution_count": 44,
      "outputs": []
    },
    {
      "cell_type": "code",
      "source": [
        "def get_user(id):\n",
        "    response = requests.get(f'{link_api}/users/{id}')\n",
        "    return response.json() if response.status_code == 200 else None\n",
        "\n",
        "# operador de atribuição walrus :=\n",
        "users = [user for id in data if (user := get_user(id)) is not None]\n",
        "# json.dumps()\n",
        "print(json.dumps(users, indent=2))"
      ],
      "metadata": {
        "colab": {
          "base_uri": "https://localhost:8080/"
        },
        "id": "hGfgBltkIqj0",
        "outputId": "c4dad8c2-4c11-4f2d-e500-2637df58827e"
      },
      "execution_count": 45,
      "outputs": [
        {
          "output_type": "stream",
          "name": "stdout",
          "text": [
            "[\n",
            "  {\n",
            "    \"id\": 268,\n",
            "    \"name\": \"Pep\",\n",
            "    \"account\": {\n",
            "      \"id\": 275,\n",
            "      \"number\": \"02501-1\",\n",
            "      \"agency\": \"0001\",\n",
            "      \"balance\": 0.0,\n",
            "      \"limit\": 500.0\n",
            "    },\n",
            "    \"card\": {\n",
            "      \"id\": 262,\n",
            "      \"number\": \"**** **** **** 2231\",\n",
            "      \"limit\": 1000.0\n",
            "    },\n",
            "    \"features\": [],\n",
            "    \"news\": [\n",
            "      {\n",
            "        \"id\": 738,\n",
            "        \"icon\": \"https://images.genius.com/31fac7e2bef0ff83f25dbd8077863794.1000x1000x1.jpg\",\n",
            "        \"description\": \"Eduardo esteve aqui\"\n",
            "      },\n",
            "      {\n",
            "        \"id\": 739,\n",
            "        \"icon\": \"https://images.genius.com/31fac7e2bef0ff83f25dbd8077863794.1000x1000x1.jpg\",\n",
            "        \"description\": \"Eduardo esteve aqui\"\n",
            "      }\n",
            "    ]\n",
            "  },\n",
            "  {\n",
            "    \"id\": 267,\n",
            "    \"name\": \"Pip\",\n",
            "    \"account\": {\n",
            "      \"id\": 274,\n",
            "      \"number\": \"02401-1\",\n",
            "      \"agency\": \"0001\",\n",
            "      \"balance\": 0.0,\n",
            "      \"limit\": 500.0\n",
            "    },\n",
            "    \"card\": {\n",
            "      \"id\": 261,\n",
            "      \"number\": \"**** **** **** 2221\",\n",
            "      \"limit\": 1000.0\n",
            "    },\n",
            "    \"features\": [],\n",
            "    \"news\": [\n",
            "      {\n",
            "        \"id\": 830,\n",
            "        \"icon\": \"https://digitalinnovationone.github.io/santander-dev-week-2023-api/icons/credit.svg\",\n",
            "        \"description\": null\n",
            "      },\n",
            "      {\n",
            "        \"id\": 831,\n",
            "        \"icon\": \"https://digitalinnovationone.github.io/santander-dev-week-2023-api/icons/credit.svg\",\n",
            "        \"description\": \"Invista agora e garanta seu futuro financeiro!\"\n",
            "      },\n",
            "      {\n",
            "        \"id\": 832,\n",
            "        \"icon\": \"https://digitalinnovationone.github.io/santander-dev-week-2023-api/icons/credit.svg\",\n",
            "        \"description\": \"Invista em seu futuro, Pip! \\ud83d\\udcc8\\ud83d\\udcb0 #SucessoNosInvestimentos\"\n",
            "      },\n",
            "      {\n",
            "        \"id\": 833,\n",
            "        \"icon\": \"https://digitalinnovationone.github.io/santander-dev-week-2023-api/icons/credit.svg\",\n",
            "        \"description\": \"Invista no seu futuro: invista hoje!\"\n",
            "      },\n",
            "      {\n",
            "        \"id\": 834,\n",
            "        \"icon\": \"https://digitalinnovationone.github.io/santander-dev-week-2023-api/icons/credit.svg\",\n",
            "        \"description\": \"Invista seu futuro.\"\n",
            "      },\n",
            "      {\n",
            "        \"id\": 835,\n",
            "        \"icon\": \"https://digitalinnovationone.github.io/santander-dev-week-2023-api/icons/credit.svg\",\n",
            "        \"description\": \"Invista para o futuro! #FuturoFinanceiro\"\n",
            "      },\n",
            "      {\n",
            "        \"id\": 836,\n",
            "        \"icon\": \"https://digitalinnovationone.github.io/santander-dev-week-2023-api/icons/credit.svg\",\n",
            "        \"description\": \"Invista hoje, colha amanh\\u00e3.\"\n",
            "      },\n",
            "      {\n",
            "        \"id\": 837,\n",
            "        \"icon\": \"https://digitalinnovationone.github.io/santander-dev-week-2023-api/icons/credit.svg\",\n",
            "        \"description\": \"Invista hoje, colha amanh\\u00e3!\"\n",
            "      }\n",
            "    ]\n",
            "  },\n",
            "  {\n",
            "    \"id\": 266,\n",
            "    \"name\": \"Pyterson\",\n",
            "    \"account\": {\n",
            "      \"id\": 273,\n",
            "      \"number\": \"02201-1\",\n",
            "      \"agency\": \"0001\",\n",
            "      \"balance\": 0.0,\n",
            "      \"limit\": 500.0\n",
            "    },\n",
            "    \"card\": {\n",
            "      \"id\": 260,\n",
            "      \"number\": \"**** **** **** 2321\",\n",
            "      \"limit\": 1000.0\n",
            "    },\n",
            "    \"features\": [],\n",
            "    \"news\": [\n",
            "      {\n",
            "        \"id\": 838,\n",
            "        \"icon\": \"https://digitalinnovationone.github.io/santander-dev-week-2023-api/icons/credit.svg\",\n",
            "        \"description\": null\n",
            "      },\n",
            "      {\n",
            "        \"id\": 839,\n",
            "        \"icon\": \"https://digitalinnovationone.github.io/santander-dev-week-2023-api/icons/credit.svg\",\n",
            "        \"description\": \"Invista no seu futuro financeiro!\"\n",
            "      },\n",
            "      {\n",
            "        \"id\": 840,\n",
            "        \"icon\": \"https://digitalinnovationone.github.io/santander-dev-week-2023-api/icons/credit.svg\",\n",
            "        \"description\": \"Invista no futuro, garanta sua seguran\\u00e7a financeira! #Investimentos\"\n",
            "      },\n",
            "      {\n",
            "        \"id\": 841,\n",
            "        \"icon\": \"https://digitalinnovationone.github.io/santander-dev-week-2023-api/icons/credit.svg\",\n",
            "        \"description\": \"Invista para prosperar! #SucessoNosInvestimentos\"\n",
            "      },\n",
            "      {\n",
            "        \"id\": 842,\n",
            "        \"icon\": \"https://digitalinnovationone.github.io/santander-dev-week-2023-api/icons/credit.svg\",\n",
            "        \"description\": \"Invista para alcan\\u00e7ar seus objetivos.\"\n",
            "      },\n",
            "      {\n",
            "        \"id\": 843,\n",
            "        \"icon\": \"https://digitalinnovationone.github.io/santander-dev-week-2023-api/icons/credit.svg\",\n",
            "        \"description\": \"Invista hoje e colha os frutos amanh\\u00e3! \\ud83d\\udcbc\\ud83d\\udcb0\"\n",
            "      },\n",
            "      {\n",
            "        \"id\": 844,\n",
            "        \"icon\": \"https://digitalinnovationone.github.io/santander-dev-week-2023-api/icons/credit.svg\",\n",
            "        \"description\": \"Invista para prosperar! #sucesso\"\n",
            "      },\n",
            "      {\n",
            "        \"id\": 845,\n",
            "        \"icon\": \"https://digitalinnovationone.github.io/santander-dev-week-2023-api/icons/credit.svg\",\n",
            "        \"description\": \"Invista para garantir seu futuro!\"\n",
            "      }\n",
            "    ]\n",
            "  }\n",
            "]\n"
          ]
        }
      ]
    },
    {
      "cell_type": "code",
      "source": [],
      "metadata": {
        "id": "la1aJ555MvA4"
      },
      "execution_count": null,
      "outputs": []
    },
    {
      "cell_type": "code",
      "source": [],
      "metadata": {
        "id": "-LLNtELxO1c4"
      },
      "execution_count": null,
      "outputs": []
    },
    {
      "cell_type": "markdown",
      "source": [
        "# **Transform**"
      ],
      "metadata": {
        "id": "8Ov6qbu5Nsb4"
      }
    },
    {
      "cell_type": "code",
      "source": [
        "!pip install openai"
      ],
      "metadata": {
        "colab": {
          "base_uri": "https://localhost:8080/"
        },
        "id": "Er7fuVV9NxT6",
        "outputId": "d0ceedf4-1cd7-449f-cb44-a01e5a981dd1"
      },
      "execution_count": 12,
      "outputs": [
        {
          "output_type": "stream",
          "name": "stdout",
          "text": [
            "Collecting openai\n",
            "  Downloading openai-0.27.8-py3-none-any.whl (73 kB)\n",
            "\u001b[?25l     \u001b[90m━━━━━━━━━━━━━━━━━━━━━━━━━━━━━━━━━━━━━━━━\u001b[0m \u001b[32m0.0/73.6 kB\u001b[0m \u001b[31m?\u001b[0m eta \u001b[36m-:--:--\u001b[0m\r\u001b[2K     \u001b[90m━━━━━━━━━━━━━━━━━━━━━━━━━━━━━━━━━━━━━━━━\u001b[0m \u001b[32m73.6/73.6 kB\u001b[0m \u001b[31m2.6 MB/s\u001b[0m eta \u001b[36m0:00:00\u001b[0m\n",
            "\u001b[?25hRequirement already satisfied: requests>=2.20 in /usr/local/lib/python3.10/dist-packages (from openai) (2.31.0)\n",
            "Requirement already satisfied: tqdm in /usr/local/lib/python3.10/dist-packages (from openai) (4.66.1)\n",
            "Requirement already satisfied: aiohttp in /usr/local/lib/python3.10/dist-packages (from openai) (3.8.5)\n",
            "Requirement already satisfied: charset-normalizer<4,>=2 in /usr/local/lib/python3.10/dist-packages (from requests>=2.20->openai) (3.2.0)\n",
            "Requirement already satisfied: idna<4,>=2.5 in /usr/local/lib/python3.10/dist-packages (from requests>=2.20->openai) (3.4)\n",
            "Requirement already satisfied: urllib3<3,>=1.21.1 in /usr/local/lib/python3.10/dist-packages (from requests>=2.20->openai) (2.0.4)\n",
            "Requirement already satisfied: certifi>=2017.4.17 in /usr/local/lib/python3.10/dist-packages (from requests>=2.20->openai) (2023.7.22)\n",
            "Requirement already satisfied: attrs>=17.3.0 in /usr/local/lib/python3.10/dist-packages (from aiohttp->openai) (23.1.0)\n",
            "Requirement already satisfied: multidict<7.0,>=4.5 in /usr/local/lib/python3.10/dist-packages (from aiohttp->openai) (6.0.4)\n",
            "Requirement already satisfied: async-timeout<5.0,>=4.0.0a3 in /usr/local/lib/python3.10/dist-packages (from aiohttp->openai) (4.0.3)\n",
            "Requirement already satisfied: yarl<2.0,>=1.0 in /usr/local/lib/python3.10/dist-packages (from aiohttp->openai) (1.9.2)\n",
            "Requirement already satisfied: frozenlist>=1.1.1 in /usr/local/lib/python3.10/dist-packages (from aiohttp->openai) (1.4.0)\n",
            "Requirement already satisfied: aiosignal>=1.1.2 in /usr/local/lib/python3.10/dist-packages (from aiohttp->openai) (1.3.1)\n",
            "Installing collected packages: openai\n",
            "Successfully installed openai-0.27.8\n"
          ]
        }
      ]
    },
    {
      "cell_type": "code",
      "source": [
        "import openai\n",
        "api_ = 'API-AQUI'\n",
        "openai.api_key = api_"
      ],
      "metadata": {
        "id": "Eeizv-A1N4v3"
      },
      "execution_count": 37,
      "outputs": []
    },
    {
      "cell_type": "code",
      "source": [
        "def generate_ai_news(user):\n",
        "    completion = openai.ChatCompletion.create(\n",
        "    model=\"gpt-3.5-turbo\",\n",
        "    messages=[\n",
        "        {\n",
        "            \"role\": \"system\",\n",
        "            \"content\": \"Você é um investidor de sucesso.\"\n",
        "        },\n",
        "\n",
        "        {\n",
        "            \"role\": \"user\",\n",
        "            \"content\": f\"Crie uma mensagem para {user['name']} sobre a importância dos investimentos (máximo de 100 caracteres)\"\n",
        "        }\n",
        "    ])\n",
        "    # retornando a responsca que fica na escolha  0 -> message-> content\n",
        "    return completion.choices[0].message.content.strip('\\\"')\n",
        "\n",
        "for user in users:\n",
        "  news = generate_ai_news(user)\n",
        "  print(news)\n",
        "  user['news'].append({\n",
        "      \"icon\": \"https://digitalinnovationone.github.io/santander-dev-week-2023-api/icons/credit.svg\",\n",
        "      \"description\": news\n",
        "  })"
      ],
      "metadata": {
        "colab": {
          "base_uri": "https://localhost:8080/"
        },
        "id": "oPwvtFutWx9l",
        "outputId": "237ab9f3-d763-4dd0-ff9d-8501a89d00b9"
      },
      "execution_count": 41,
      "outputs": [
        {
          "output_type": "stream",
          "name": "stdout",
          "text": [
            "Invista sabiamente para prosperar!\n",
            "Invista hoje para colher amanhã!\n",
            "Invista hoje, colha amanhã.\n"
          ]
        }
      ]
    },
    {
      "cell_type": "code",
      "source": [],
      "metadata": {
        "id": "kxJ75CfBIdfZ"
      },
      "execution_count": 35,
      "outputs": []
    },
    {
      "cell_type": "markdown",
      "source": [
        "# **Transform - 2 - csv**"
      ],
      "metadata": {
        "id": "BD2v8CVDPBNA"
      }
    },
    {
      "cell_type": "code",
      "source": [
        "import random\n",
        "# faz uma escolha aleatoria no csv e retorna nas news -> description\n",
        "def msg_csv(user):\n",
        "    user['news'].append(\n",
        "        {\n",
        "        \"icon\": \"https://digitalinnovationone.github.io/santander-dev-week-2023-api/icons/credit.svg\",\n",
        "        'description':random.choice(frases)\n",
        "        })\n",
        "\n",
        "for user in users:\n",
        "    msg_csv(user)\n",
        "    print(user['news'][-1]['description'])"
      ],
      "metadata": {
        "colab": {
          "base_uri": "https://localhost:8080/"
        },
        "id": "IOBJ_aVCPIWx",
        "outputId": "66799b3d-6b51-4fa3-8dc0-12b65d64095d"
      },
      "execution_count": 49,
      "outputs": [
        {
          "output_type": "stream",
          "name": "stdout",
          "text": [
            "Comece com pouco.\n",
            "O tempo é o seu melhor amigo na hora de investir.\n",
            "Seja paciente e disciplinado.\n"
          ]
        }
      ]
    },
    {
      "cell_type": "markdown",
      "source": [
        "# **Load**\n"
      ],
      "metadata": {
        "id": "OmbQT8lTJoCR"
      }
    },
    {
      "cell_type": "code",
      "source": [
        "def update_user(user):\n",
        "  response = requests.put(f\"{link_api}/users/{user['id']}\", json=user)\n",
        "  return True if response.status_code == 200 else False\n",
        "\n",
        "for user in users:\n",
        "    print(user)\n",
        "    success = update_user(user)\n",
        "    print(f\"User {user['name']} updated? {success}!\")"
      ],
      "metadata": {
        "colab": {
          "base_uri": "https://localhost:8080/"
        },
        "id": "fe22ffeeJqh4",
        "outputId": "c9647c82-8210-4312-9c3c-28769cc9ec99"
      },
      "execution_count": 50,
      "outputs": [
        {
          "output_type": "stream",
          "name": "stdout",
          "text": [
            "{'id': 268, 'name': 'Pep', 'account': {'id': 275, 'number': '02501-1', 'agency': '0001', 'balance': 0.0, 'limit': 500.0}, 'card': {'id': 262, 'number': '**** **** **** 2231', 'limit': 1000.0}, 'features': [], 'news': [{'id': 738, 'icon': 'https://images.genius.com/31fac7e2bef0ff83f25dbd8077863794.1000x1000x1.jpg', 'description': 'Eduardo esteve aqui'}, {'id': 739, 'icon': 'https://images.genius.com/31fac7e2bef0ff83f25dbd8077863794.1000x1000x1.jpg', 'description': 'Eduardo esteve aqui'}, {'icon': 'https://digitalinnovationone.github.io/santander-dev-week-2023-api/icons/credit.svg', 'description': 'Faça sua pesquisa antes de investir.'}, {'icon': 'https://digitalinnovationone.github.io/santander-dev-week-2023-api/icons/credit.svg', 'description': 'Faça sua pesquisa antes de investir.'}, {'icon': 'https://digitalinnovationone.github.io/santander-dev-week-2023-api/icons/credit.svg', 'description': 'Comece com pouco.'}]}\n",
            "User Pep updated? True!\n",
            "{'id': 267, 'name': 'Pip', 'account': {'id': 274, 'number': '02401-1', 'agency': '0001', 'balance': 0.0, 'limit': 500.0}, 'card': {'id': 261, 'number': '**** **** **** 2221', 'limit': 1000.0}, 'features': [], 'news': [{'id': 830, 'icon': 'https://digitalinnovationone.github.io/santander-dev-week-2023-api/icons/credit.svg', 'description': None}, {'id': 831, 'icon': 'https://digitalinnovationone.github.io/santander-dev-week-2023-api/icons/credit.svg', 'description': 'Invista agora e garanta seu futuro financeiro!'}, {'id': 832, 'icon': 'https://digitalinnovationone.github.io/santander-dev-week-2023-api/icons/credit.svg', 'description': 'Invista em seu futuro, Pip! 📈💰 #SucessoNosInvestimentos'}, {'id': 833, 'icon': 'https://digitalinnovationone.github.io/santander-dev-week-2023-api/icons/credit.svg', 'description': 'Invista no seu futuro: invista hoje!'}, {'id': 834, 'icon': 'https://digitalinnovationone.github.io/santander-dev-week-2023-api/icons/credit.svg', 'description': 'Invista seu futuro.'}, {'id': 835, 'icon': 'https://digitalinnovationone.github.io/santander-dev-week-2023-api/icons/credit.svg', 'description': 'Invista para o futuro! #FuturoFinanceiro'}, {'id': 836, 'icon': 'https://digitalinnovationone.github.io/santander-dev-week-2023-api/icons/credit.svg', 'description': 'Invista hoje, colha amanhã.'}, {'id': 837, 'icon': 'https://digitalinnovationone.github.io/santander-dev-week-2023-api/icons/credit.svg', 'description': 'Invista hoje, colha amanhã!'}, {'icon': 'https://digitalinnovationone.github.io/santander-dev-week-2023-api/icons/credit.svg', 'description': 'O tempo é o seu melhor amigo na hora de investir.'}, {'icon': 'https://digitalinnovationone.github.io/santander-dev-week-2023-api/icons/credit.svg', 'description': 'O tempo é o seu melhor amigo na hora de investir.'}]}\n",
            "User Pip updated? True!\n",
            "{'id': 266, 'name': 'Pyterson', 'account': {'id': 273, 'number': '02201-1', 'agency': '0001', 'balance': 0.0, 'limit': 500.0}, 'card': {'id': 260, 'number': '**** **** **** 2321', 'limit': 1000.0}, 'features': [], 'news': [{'id': 838, 'icon': 'https://digitalinnovationone.github.io/santander-dev-week-2023-api/icons/credit.svg', 'description': None}, {'id': 839, 'icon': 'https://digitalinnovationone.github.io/santander-dev-week-2023-api/icons/credit.svg', 'description': 'Invista no seu futuro financeiro!'}, {'id': 840, 'icon': 'https://digitalinnovationone.github.io/santander-dev-week-2023-api/icons/credit.svg', 'description': 'Invista no futuro, garanta sua segurança financeira! #Investimentos'}, {'id': 841, 'icon': 'https://digitalinnovationone.github.io/santander-dev-week-2023-api/icons/credit.svg', 'description': 'Invista para prosperar! #SucessoNosInvestimentos'}, {'id': 842, 'icon': 'https://digitalinnovationone.github.io/santander-dev-week-2023-api/icons/credit.svg', 'description': 'Invista para alcançar seus objetivos.'}, {'id': 843, 'icon': 'https://digitalinnovationone.github.io/santander-dev-week-2023-api/icons/credit.svg', 'description': 'Invista hoje e colha os frutos amanhã! 💼💰'}, {'id': 844, 'icon': 'https://digitalinnovationone.github.io/santander-dev-week-2023-api/icons/credit.svg', 'description': 'Invista para prosperar! #sucesso'}, {'id': 845, 'icon': 'https://digitalinnovationone.github.io/santander-dev-week-2023-api/icons/credit.svg', 'description': 'Invista para garantir seu futuro!'}, {'icon': 'https://digitalinnovationone.github.io/santander-dev-week-2023-api/icons/credit.svg', 'description': 'Invista em você mesmo.'}, {'icon': 'https://digitalinnovationone.github.io/santander-dev-week-2023-api/icons/credit.svg', 'description': 'Seja paciente e disciplinado.'}]}\n",
            "User Pyterson updated? True!\n"
          ]
        }
      ]
    },
    {
      "cell_type": "markdown",
      "source": [],
      "metadata": {
        "id": "OVGdcM72SvDa"
      }
    }
  ]
}
